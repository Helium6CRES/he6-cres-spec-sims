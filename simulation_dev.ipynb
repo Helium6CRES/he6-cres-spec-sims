{
 "cells": [
  {
   "cell_type": "markdown",
   "metadata": {},
   "source": [
    "# simulation_dev \n",
    "\n",
    "TODO: \n",
    "\n",
    "* Simulating the DAQ. \n",
    "    * Create a realistic fake noise file that can be read by KTLongSpecProcessor. DONE\n",
    "    * Work towards simulating the action of the DAQ.\n",
    "        * Start with taking a set of simple tracks and making a spec file with tracks in the right place, but for a fixed power.\n",
    "* With extra time or when stuck. \n",
    "    * Document and organize the code you have so far. \n",
    "    * Get at least a few sanity checks working for both the block level and simulation level tests. This is very important. \n",
    "    * Post the playground to the spec sims slack channel so people can see progress. \n",
    "    * Rearrange the order of the tracks_df so that it makes more sense and is easier to read. \n",
    "    \n"
   ]
  },
  {
   "cell_type": "markdown",
   "metadata": {},
   "source": [
    "# Testing things on the whole: \n",
    "\n",
    "Note: Maybe build this into a test ipynb for illustrating that things make sense. \n",
    "\n",
    "## List of tests: \n",
    "\n",
    "* 90 pich angle, z = 0. See what track powers end up as. \n",
    "    * Later: Use this as a calibration of the power in katydid, as well as to check the slopes. \n",
    "* "
   ]
  },
  {
   "cell_type": "code",
   "execution_count": 1,
   "metadata": {},
   "outputs": [],
   "source": [
    "%load_ext autoreload\n"
   ]
  },
  {
   "cell_type": "code",
   "execution_count": 14,
   "metadata": {},
   "outputs": [],
   "source": [
    "%autoreload 2\n",
    "import he6_cres_spec_sims.simulation as sim\n",
    "import he6_cres_spec_sims.simulation_blocks as sim_blocks\n",
    "import he6_cres_spec_sims.analysis.visualization as viz\n",
    "\n",
    "import numpy as np\n",
    "from numpy.random import default_rng\n",
    "rng = default_rng(12345)\n",
    "\n",
    "import pandas as pd\n",
    "import matplotlib.pyplot as plt\n",
    "pd.options.mode.chained_assignment = None\n",
    "pd.set_option('display.max_rows', 500)\n",
    "pd.set_option('display.max_columns', 500)"
   ]
  },
  {
   "cell_type": "markdown",
   "metadata": {},
   "source": [
    "## Load the config file"
   ]
  },
  {
   "cell_type": "code",
   "execution_count": 3,
   "metadata": {},
   "outputs": [
    {
     "name": "stdout",
     "output_type": "stream",
     "text": [
      "Optimization terminated successfully.\n",
      "         Current function value: -0.689350\n",
      "         Iterations: 42\n",
      "         Function evaluations: 95\n",
      "Trap width: (-0.04515688705444337,0.04515688705444337)\n",
      "Maximum Field: 0.6893498199715139\n"
     ]
    }
   ],
   "source": [
    "config = sim_blocks.Config(config_filename = \"config_example\")"
   ]
  },
  {
   "cell_type": "markdown",
   "metadata": {},
   "source": [
    "## Run the simulation based on the above config"
   ]
  },
  {
   "cell_type": "code",
   "execution_count": 4,
   "metadata": {},
   "outputs": [],
   "source": [
    "simulation = sim.Simulation(config)"
   ]
  },
  {
   "cell_type": "code",
   "execution_count": 5,
   "metadata": {},
   "outputs": [
    {
     "name": "stdout",
     "output_type": "stream",
     "text": [
      "~~~~~~~~~~~~Hardware Block~~~~~~~~~~~~~~\n",
      "\n",
      "Constructing a set of trapped events:\n",
      "\n",
      "Event: 0/1...\n",
      "\n",
      "Not Trapped: Collided with guide wall.\n",
      "Trapped!\n",
      "\n",
      "Event: 1/1...\n",
      "\n",
      "Trapped!\n",
      "\n",
      "**Block Output:**\n",
      "hardware_trapped_events_df written to /he6_cres_spec_sims/simulation_results/config_example_dfs\n",
      "\n",
      "~~~~~~~~~~~~Kinematics Block~~~~~~~~~~~~~~\n",
      "\n",
      "\n",
      "Scattering Event : 0\n",
      "Jump: 0\n",
      "Trapped!\n",
      "Jump: 1\n",
      "Trapped!\n",
      "Jump: 2\n",
      "Trapped!\n",
      "Jump: 3\n",
      "Trapped!\n",
      "Event reached jump_num_max : 3\n",
      "\n",
      "Scattering Event : 1\n",
      "Jump: 0\n",
      "Trapped!\n",
      "Jump: 1\n",
      "Trapped!\n",
      "Jump: 2\n",
      "Trapped!\n",
      "Jump: 3\n",
      "Trapped!\n",
      "Event reached jump_num_max : 3\n",
      "\n",
      "**Block Output:**\n",
      "kinematics_segments_df written to /he6_cres_spec_sims/simulation_results/config_example_dfs\n",
      "\n",
      "~~~~~~~~~~~~BandBuilder Block~~~~~~~~~~~~~~\n",
      "\n",
      "\n",
      "**Block Output:**\n",
      "bandbuilder_bands_df written to /he6_cres_spec_sims/simulation_results/config_example_dfs\n",
      "\n",
      "~~~~~~~~~~~~TrackBuilder Block~~~~~~~~~~~~~~\n",
      "\n",
      "\n",
      "**Block Output:**\n",
      "trackbuilder_tracks_df written to /he6_cres_spec_sims/simulation_results/config_example_dfs\n",
      "\n"
     ]
    }
   ],
   "source": [
    "simulation.run()"
   ]
  }
 ],
 "metadata": {
  "kernelspec": {
   "display_name": "Python 3",
   "language": "python",
   "name": "python3"
  },
  "language_info": {
   "codemirror_mode": {
    "name": "ipython",
    "version": 3
   },
   "file_extension": ".py",
   "mimetype": "text/x-python",
   "name": "python",
   "nbconvert_exporter": "python",
   "pygments_lexer": "ipython3",
   "version": "3.7.6"
  }
 },
 "nbformat": 4,
 "nbformat_minor": 4
}
